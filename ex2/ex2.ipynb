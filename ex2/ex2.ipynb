{
 "cells": [
  {
   "attachments": {},
   "cell_type": "markdown",
   "metadata": {},
   "source": [
    "# abdolazizSalimi980292626ex2\n"
   ]
  },
  {
   "attachments": {},
   "cell_type": "markdown",
   "metadata": {},
   "source": [
    "## Q1 "
   ]
  },
  {
   "cell_type": "code",
   "execution_count": 1,
   "metadata": {},
   "outputs": [],
   "source": [
    "list1 = [['13','14','15'],['18','19','10']]"
   ]
  },
  {
   "cell_type": "code",
   "execution_count": 2,
   "metadata": {},
   "outputs": [],
   "source": [
    "list2 = [[list1[0][i]+list1[1][i]]  for i in range(len(list1[0]))]"
   ]
  },
  {
   "cell_type": "code",
   "execution_count": 3,
   "metadata": {},
   "outputs": [
    {
     "data": {
      "text/plain": [
       "[['1318'], ['1419'], ['1510']]"
      ]
     },
     "execution_count": 3,
     "metadata": {},
     "output_type": "execute_result"
    }
   ],
   "source": [
    "list2"
   ]
  },
  {
   "cell_type": "code",
   "execution_count": 4,
   "metadata": {},
   "outputs": [
    {
     "data": {
      "text/plain": [
       "'1318'"
      ]
     },
     "execution_count": 4,
     "metadata": {},
     "output_type": "execute_result"
    }
   ],
   "source": [
    "list2[0][0]"
   ]
  },
  {
   "cell_type": "code",
   "execution_count": 5,
   "metadata": {},
   "outputs": [],
   "source": [
    "sum = sum([int(list2[i][0]) for i in range(len(list2))])"
   ]
  },
  {
   "cell_type": "code",
   "execution_count": 6,
   "metadata": {},
   "outputs": [],
   "source": [
    "avg = sum/len(list2)"
   ]
  },
  {
   "cell_type": "code",
   "execution_count": 7,
   "metadata": {},
   "outputs": [
    {
     "name": "stdout",
     "output_type": "stream",
     "text": [
      "sum : 4247  , avg 1415.6666666666667\n"
     ]
    }
   ],
   "source": [
    "print(f'sum : {sum}  , avg {avg}')"
   ]
  },
  {
   "cell_type": "code",
   "execution_count": 8,
   "metadata": {},
   "outputs": [],
   "source": [
    "del sum , avg "
   ]
  },
  {
   "cell_type": "markdown",
   "metadata": {},
   "source": []
  },
  {
   "attachments": {},
   "cell_type": "markdown",
   "metadata": {},
   "source": [
    "# Q2"
   ]
  },
  {
   "cell_type": "code",
   "execution_count": 9,
   "metadata": {},
   "outputs": [],
   "source": [
    "path = r'ex.txt'"
   ]
  },
  {
   "attachments": {},
   "cell_type": "markdown",
   "metadata": {},
   "source": [
    "## read file "
   ]
  },
  {
   "cell_type": "code",
   "execution_count": 10,
   "metadata": {},
   "outputs": [],
   "source": [
    "with open(path) as f:\n",
    "    contents = f.read()"
   ]
  },
  {
   "cell_type": "code",
   "execution_count": 11,
   "metadata": {},
   "outputs": [
    {
     "data": {
      "text/plain": [
       "'20230104,09321123,water,2,3000\\nwater,60,Oliland\\n20230104,09361723,beer,1,7000\\n20230105,0935675,apple,,5000\\nbeer,6,Jojo\\n20230106,0936853,beer,5,7000\\n20230106,09321123,wiine,5,10000\\n20230106,0936853,wine,5,10000\\nwine,20,Shiraz\\n20230107,0945675,wine,,10000\\n\\n\\n'"
      ]
     },
     "execution_count": 11,
     "metadata": {},
     "output_type": "execute_result"
    }
   ],
   "source": [
    "contents"
   ]
  },
  {
   "attachments": {},
   "cell_type": "markdown",
   "metadata": {},
   "source": [
    "###  clean data "
   ]
  },
  {
   "cell_type": "code",
   "execution_count": 12,
   "metadata": {},
   "outputs": [],
   "source": [
    "contents = contents.split('\\n')"
   ]
  },
  {
   "cell_type": "code",
   "execution_count": 13,
   "metadata": {},
   "outputs": [],
   "source": [
    "data = list(filter(lambda x: x != '', contents))"
   ]
  },
  {
   "cell_type": "code",
   "execution_count": 14,
   "metadata": {},
   "outputs": [
    {
     "data": {
      "text/plain": [
       "['20230104,09321123,water,2,3000',\n",
       " 'water,60,Oliland',\n",
       " '20230104,09361723,beer,1,7000',\n",
       " '20230105,0935675,apple,,5000',\n",
       " 'beer,6,Jojo',\n",
       " '20230106,0936853,beer,5,7000',\n",
       " '20230106,09321123,wiine,5,10000',\n",
       " '20230106,0936853,wine,5,10000',\n",
       " 'wine,20,Shiraz',\n",
       " '20230107,0945675,wine,,10000']"
      ]
     },
     "execution_count": 14,
     "metadata": {},
     "output_type": "execute_result"
    }
   ],
   "source": [
    "data"
   ]
  },
  {
   "cell_type": "code",
   "execution_count": 15,
   "metadata": {},
   "outputs": [],
   "source": [
    "def clean_data(data_list):\n",
    "    clean_list = []\n",
    "    noise_data = []\n",
    "    for line in data_list:\n",
    "        split_line = line.split(\",\")\n",
    "        if len(split_line) == 5:\n",
    "            clean_list.append(split_line)\n",
    "        elif len(split_line) == 3:\n",
    "            noise_data.append([split_line[0], split_line[1], split_line[2]])\n",
    "    return clean_list , noise_data\n"
   ]
  },
  {
   "cell_type": "code",
   "execution_count": 16,
   "metadata": {},
   "outputs": [],
   "source": [
    "customer_data ,company_data = clean_data(data)\n"
   ]
  },
  {
   "attachments": {},
   "cell_type": "markdown",
   "metadata": {},
   "source": [
    "## customer data"
   ]
  },
  {
   "cell_type": "code",
   "execution_count": 17,
   "metadata": {},
   "outputs": [
    {
     "data": {
      "text/plain": [
       "[['20230104', '09321123', 'water', '2', '3000'],\n",
       " ['20230104', '09361723', 'beer', '1', '7000'],\n",
       " ['20230105', '0935675', 'apple', '', '5000'],\n",
       " ['20230106', '0936853', 'beer', '5', '7000'],\n",
       " ['20230106', '09321123', 'wiine', '5', '10000'],\n",
       " ['20230106', '0936853', 'wine', '5', '10000'],\n",
       " ['20230107', '0945675', 'wine', '', '10000']]"
      ]
     },
     "execution_count": 17,
     "metadata": {},
     "output_type": "execute_result"
    }
   ],
   "source": [
    "customer_data"
   ]
  },
  {
   "attachments": {},
   "cell_type": "markdown",
   "metadata": {},
   "source": [
    "### adding label to data and make dataframe"
   ]
  },
  {
   "cell_type": "code",
   "execution_count": 18,
   "metadata": {},
   "outputs": [
    {
     "data": {
      "text/plain": [
       "[{'date': '2023/01/04',\n",
       "  'phone_number': '09321123',\n",
       "  'product_name': 'water',\n",
       "  'amount': '2',\n",
       "  'price': '3000'},\n",
       " {'date': '2023/01/04',\n",
       "  'phone_number': '09361723',\n",
       "  'product_name': 'beer',\n",
       "  'amount': '1',\n",
       "  'price': '7000'},\n",
       " {'date': '2023/01/05',\n",
       "  'phone_number': '0935675',\n",
       "  'product_name': 'apple',\n",
       "  'amount': '-1',\n",
       "  'price': '5000'},\n",
       " {'date': '2023/01/06',\n",
       "  'phone_number': '0936853',\n",
       "  'product_name': 'beer',\n",
       "  'amount': '5',\n",
       "  'price': '7000'},\n",
       " {'date': '2023/01/06',\n",
       "  'phone_number': '09321123',\n",
       "  'product_name': 'wine',\n",
       "  'amount': '5',\n",
       "  'price': '10000'},\n",
       " {'date': '2023/01/06',\n",
       "  'phone_number': '0936853',\n",
       "  'product_name': 'wine',\n",
       "  'amount': '5',\n",
       "  'price': '10000'},\n",
       " {'date': '2023/01/07',\n",
       "  'phone_number': '0945675',\n",
       "  'product_name': 'wine',\n",
       "  'amount': '-1',\n",
       "  'price': '10000'}]"
      ]
     },
     "execution_count": 18,
     "metadata": {},
     "output_type": "execute_result"
    }
   ],
   "source": [
    "keys = ['date', 'phone_number', 'product_name', 'amount', 'price']\n",
    "\n",
    "users = []\n",
    "for row in customer_data:\n",
    "    d = {}\n",
    "    if len(row) == len(keys):\n",
    "        for i, value in enumerate(row):\n",
    "            if value != '':\n",
    "                if i == 0 :    \n",
    "                    d[keys[i]] = value[:4] + '/' +value[4:6] + '/' + value[6:8]\n",
    "                elif value == 'wiine':\n",
    "                    d[keys[i]] = 'wine'\n",
    "                else :\n",
    "                    d[keys[i]] = value\n",
    "            else:\n",
    "                d[keys[i]] = '-1'\n",
    "    users.append(d)\n",
    "\n",
    "users"
   ]
  },
  {
   "attachments": {},
   "cell_type": "markdown",
   "metadata": {},
   "source": [
    "## company data"
   ]
  },
  {
   "cell_type": "code",
   "execution_count": 19,
   "metadata": {},
   "outputs": [
    {
     "data": {
      "text/plain": [
       "[['water', '60', 'Oliland'], ['beer', '6', 'Jojo'], ['wine', '20', 'Shiraz']]"
      ]
     },
     "execution_count": 19,
     "metadata": {},
     "output_type": "execute_result"
    }
   ],
   "source": [
    "company_data"
   ]
  },
  {
   "cell_type": "code",
   "execution_count": 20,
   "metadata": {},
   "outputs": [],
   "source": [
    "\n",
    "temp = []\n",
    "for i in range(len(company_data)):\n",
    "     temp.append(company_data[i][::-1])\n",
    "company_data = temp"
   ]
  },
  {
   "cell_type": "code",
   "execution_count": 21,
   "metadata": {},
   "outputs": [
    {
     "data": {
      "text/plain": [
       "[['Oliland', '60', 'water'], ['Jojo', '6', 'beer'], ['Shiraz', '20', 'wine']]"
      ]
     },
     "execution_count": 21,
     "metadata": {},
     "output_type": "execute_result"
    }
   ],
   "source": [
    "company_data"
   ]
  },
  {
   "cell_type": "code",
   "execution_count": 22,
   "metadata": {},
   "outputs": [],
   "source": [
    "keys = ['company_name' , 'amount' , 'product_name']\n",
    "companies = []\n",
    "for row in company_data:\n",
    "    d = {}\n",
    "    for i,val in  enumerate(row):\n",
    "        d[keys[i]] = val\n",
    "    companies.append(d)"
   ]
  },
  {
   "cell_type": "code",
   "execution_count": 23,
   "metadata": {},
   "outputs": [
    {
     "data": {
      "text/plain": [
       "[{'company_name': 'Oliland', 'amount': '60', 'product_name': 'water'},\n",
       " {'company_name': 'Jojo', 'amount': '6', 'product_name': 'beer'},\n",
       " {'company_name': 'Shiraz', 'amount': '20', 'product_name': 'wine'}]"
      ]
     },
     "execution_count": 23,
     "metadata": {},
     "output_type": "execute_result"
    }
   ],
   "source": [
    "companies"
   ]
  },
  {
   "attachments": {},
   "cell_type": "markdown",
   "metadata": {},
   "source": [
    "# ---------------------------------------"
   ]
  },
  {
   "cell_type": "code",
   "execution_count": 24,
   "metadata": {},
   "outputs": [],
   "source": [
    "##"
   ]
  },
  {
   "cell_type": "code",
   "execution_count": 25,
   "metadata": {},
   "outputs": [
    {
     "name": "stdout",
     "output_type": "stream",
     "text": [
      "{'date': '2023/01/04', 'phone_number': '09321123', 'product_name': 'water', 'amount': '2', 'price': '3000'}\n",
      "{'date': '2023/01/04', 'phone_number': '09361723', 'product_name': 'beer', 'amount': '1', 'price': '7000'}\n",
      "{'date': '2023/01/05', 'phone_number': '0935675', 'product_name': 'apple', 'amount': '-1', 'price': '5000'}\n",
      "{'date': '2023/01/06', 'phone_number': '0936853', 'product_name': 'beer', 'amount': '5', 'price': '7000'}\n",
      "{'date': '2023/01/06', 'phone_number': '09321123', 'product_name': 'wine', 'amount': '5', 'price': '10000'}\n",
      "{'date': '2023/01/06', 'phone_number': '0936853', 'product_name': 'wine', 'amount': '5', 'price': '10000'}\n",
      "{'date': '2023/01/07', 'phone_number': '0945675', 'product_name': 'wine', 'amount': '-1', 'price': '10000'}\n"
     ]
    }
   ],
   "source": [
    "for i in users:\n",
    "    print(i)"
   ]
  },
  {
   "cell_type": "code",
   "execution_count": 26,
   "metadata": {},
   "outputs": [
    {
     "data": {
      "text/plain": [
       "[{'company_name': 'Oliland', 'amount': '60', 'product_name': 'water'},\n",
       " {'company_name': 'Jojo', 'amount': '6', 'product_name': 'beer'},\n",
       " {'company_name': 'Shiraz', 'amount': '20', 'product_name': 'wine'}]"
      ]
     },
     "execution_count": 26,
     "metadata": {},
     "output_type": "execute_result"
    }
   ],
   "source": [
    "companies"
   ]
  },
  {
   "cell_type": "code",
   "execution_count": 27,
   "metadata": {},
   "outputs": [
    {
     "name": "stdout",
     "output_type": "stream",
     "text": [
      "Number 09321123 made 2 purchases:\n",
      "  - 2 water at 3000 each\n",
      "  - 5 wine at 10000 each\n",
      "\n",
      "Number 09361723 made 1 purchases:\n",
      "  - 1 beer at 7000 each\n",
      "\n",
      "Number 0935675 made 1 purchases:\n",
      "  -  Unknown apple at 5000 each\n",
      "\n",
      "Number 0936853 made 2 purchases:\n",
      "  - 5 beer at 7000 each\n",
      "  - 5 wine at 10000 each\n",
      "\n",
      "Number 0945675 made 1 purchases:\n",
      "  -  Unknown wine at 10000 each\n",
      "\n",
      "Average costs for each product:\n",
      "  - water: 3000.0\n",
      "  - beer: 7000.0\n",
      "  - apple: 0\n",
      "  - wine: 10000.0\n",
      "Product stock:\n",
      "  - water has 58 in stock\n",
      "  - beer is out of stock!\n",
      "  - wine has 10 in stock\n"
     ]
    }
   ],
   "source": [
    "def process_purchases(purchases, stock):\n",
    "\n",
    "    num_purchases = {}\n",
    "    product_cost = {}\n",
    "    product_count = {}\n",
    "\n",
    "    stock_dict = {item['product_name']: item for item in stock}\n",
    "    \n",
    "\n",
    "    for purchase in purchases:\n",
    "\n",
    "        number = purchase['phone_number']\n",
    "        product = purchase['product_name']\n",
    "        amount = int(purchase['amount'])\n",
    "        price = int(purchase['price'])\n",
    "        \n",
    "\n",
    "        if number not in num_purchases:\n",
    "            num_purchases[number] = []\n",
    "        num_purchases[number].append((product, amount, price))\n",
    "        \n",
    "    \n",
    "        if product not in product_cost:\n",
    "            product_cost[product] = 0\n",
    "            product_count[product] = 0\n",
    "        if amount != -1:\n",
    "            product_cost[product] += amount * price\n",
    "            product_count[product] += abs(amount)\n",
    "            \n",
    "            # Update the stock count\n",
    "            if product in stock_dict:\n",
    "                s_amount=int(stock_dict[product]['amount'])\n",
    "                s_amount -= abs(int(amount))\n",
    "                stock_dict[product]['amount'] = str(s_amount)\n",
    "        \n",
    "\n",
    "    product_avg_cost = {}\n",
    "    for product in product_cost:\n",
    "        if product_count[product] == 0:\n",
    "            product_avg_cost[product] = 0\n",
    "        else:\n",
    "            product_avg_cost[product] = product_cost[product] / product_count[product]\n",
    "    \n",
    "\n",
    "    for number, purchases in num_purchases.items():\n",
    "        print(f'Number {number} made {len(purchases)} purchases:')\n",
    "        for purchase in purchases:\n",
    "                if purchase[1] !=-1:\n",
    "                    product, amount, price = purchase\n",
    "                    print(f'  - {amount} {product} at {price} each')\n",
    "                else : \n",
    "                    product, amount, price = purchase\n",
    "                    print(f'  - {\" Unknown\"} {product} at {price} each')\n",
    "        print()\n",
    "    \n",
    "    print('Average costs for each product:')\n",
    "    for product, avg_cost in product_avg_cost.items():\n",
    "        print(f'  - {product}: {avg_cost}')\n",
    "    \n",
    "    # Check the stock of each product\n",
    "    print('Product stock:')\n",
    "    \n",
    "    for product, item in stock_dict.items():\n",
    "        count = int(item['amount'])\n",
    "        if count == 0:\n",
    "            print(f'  - {product} is out of stock!')\n",
    "        elif count < 5:\n",
    "            print(f'  - {product} is running low ({count} left)')\n",
    "        else:\n",
    "            print(f'  - {product} has {count} in stock')\n",
    "process_purchases(users , companies)\n"
   ]
  }
 ],
 "metadata": {
  "kernelspec": {
   "display_name": "base",
   "language": "python",
   "name": "python3"
  },
  "language_info": {
   "codemirror_mode": {
    "name": "ipython",
    "version": 3
   },
   "file_extension": ".py",
   "mimetype": "text/x-python",
   "name": "python",
   "nbconvert_exporter": "python",
   "pygments_lexer": "ipython3",
   "version": "3.9.7"
  },
  "orig_nbformat": 4
 },
 "nbformat": 4,
 "nbformat_minor": 2
}
