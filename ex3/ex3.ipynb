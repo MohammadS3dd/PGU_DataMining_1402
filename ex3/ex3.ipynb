{
 "cells": [
  {
   "attachments": {},
   "cell_type": "markdown",
   "metadata": {},
   "source": [
    "# abdolazizsalimi980292626Ex3\n"
   ]
  },
  {
   "attachments": {},
   "cell_type": "markdown",
   "metadata": {},
   "source": [
    "## Q1"
   ]
  },
  {
   "cell_type": "code",
   "execution_count": 58,
   "metadata": {},
   "outputs": [],
   "source": [
    "import numpy as np "
   ]
  },
  {
   "cell_type": "code",
   "execution_count": 59,
   "metadata": {},
   "outputs": [],
   "source": [
    "class XorMLP():\n",
    "\n",
    "\n",
    "    def step_function(self , input , t):\n",
    "        return np.where(t <= input , 1 , 0)\n",
    "\n",
    "    def __init__(self , threshold = [] , weight = []):\n",
    "        assert len(threshold) == 3 \n",
    "        assert len(weight) == 3\n",
    "        self.threshold = threshold\n",
    "        self.w = weight\n",
    "    \n",
    "    def predict(self , xorInput):\n",
    "\n",
    "        #first layer \n",
    "        input_ = xorInput * self.w[:2]\n",
    "        sum_first_layer = np.sum(input_ , axis=1)\n",
    "        output_first_layer = self.step_function(sum_first_layer , self.threshold[:2])\n",
    "        # mun 2 layer \n",
    "        input_num2_layer = output_first_layer\n",
    "        sum_num2_layer  = np.sum(input_num2_layer * self.w[-1])\n",
    "        output = self.step_function(sum_num2_layer , self.threshold[-1])\n",
    "        return output"
   ]
  },
  {
   "cell_type": "code",
   "execution_count": 60,
   "metadata": {},
   "outputs": [],
   "source": [
    "weight = [[2,-1],[-1,2],[2,2]]\n",
    "threshold = [2,2,2]\n",
    "X = xor_input = np.array([[0,0], [0,1], [1,0], [1,1]])\n",
    "XOR = XorMLP(threshold= threshold , weight= weight)"
   ]
  },
  {
   "cell_type": "code",
   "execution_count": 61,
   "metadata": {},
   "outputs": [
    {
     "name": "stdout",
     "output_type": "stream",
     "text": [
      "xorInput: [1 0]\n",
      "output: 1\n"
     ]
    }
   ],
   "source": [
    "\n",
    "xorInput = xor_input[2]\n",
    "print('xorInput:' ,xorInput )\n",
    "res = XOR.predict(xorInput)\n",
    "print('output:' , res )"
   ]
  },
  {
   "attachments": {},
   "cell_type": "markdown",
   "metadata": {},
   "source": [
    "## feed forward network "
   ]
  },
  {
   "cell_type": "code",
   "execution_count": 62,
   "metadata": {},
   "outputs": [],
   "source": [
    "import numpy as np \n",
    "\n",
    "\n",
    "class Perceptron:\n",
    "    def __init__(self, learning_rate = 0.01 , n_iters = 1000):\n",
    "        self.n_iters = n_iters\n",
    "        self.lr = learning_rate\n",
    "        self.activation_function = self.unit_activashin_f\n",
    "        self.weights = None\n",
    "        self.bias = None\n",
    "\n",
    "    def fit (self , X,y):\n",
    "        n_sampels , n_features = X.shape\n",
    "        self.weights = np.zeros(n_features)\n",
    "        self.bias = 0 \n",
    "        y_ = np.array([1 if i<0 else 0 for i in y])\n",
    "\n",
    "        for _ in range(self.n_iters):\n",
    "            for idx , x_i in enumerate(X):\n",
    "                linear_output = np.dot(x_i , self.weights) + self.bias\n",
    "                y_predict= self.activation_function(linear_output) \n",
    "\n",
    "                update = self.lr * (y[idx] - y_predict)\n",
    "                self.weights += update * x_i\n",
    "                self.bias += update \n",
    "        \n",
    "    \n",
    "\n",
    "    def predict(self,X):\n",
    "        linear_output = np.dot(X, self.weights) + self.bias\n",
    "        y_predict = self.activation_function(linear_output)\n",
    "        return y_predict\n",
    "        \n",
    "\n",
    "    \n",
    "        \n",
    "    \n",
    "\n",
    "    def unit_activashin_f(self , x):\n",
    "        return np.where(x>=0 , 1 , 0)\n",
    "    \n"
   ]
  },
  {
   "attachments": {},
   "cell_type": "markdown",
   "metadata": {},
   "source": [
    "## MLP Test\n"
   ]
  },
  {
   "cell_type": "code",
   "execution_count": 63,
   "metadata": {},
   "outputs": [
    {
     "name": "stdout",
     "output_type": "stream",
     "text": [
      "Perceptron classification accuracy 1.0\n"
     ]
    },
    {
     "data": {
      "image/png": "[encoded data removed]",
      "text/plain": [
       "<Figure size 432x288 with 1 Axes>"
      ]
     },
     "metadata": {
      "needs_background": "light"
     },
     "output_type": "display_data"
    }
   ],
   "source": [
    "import matplotlib.pyplot as plt\n",
    "from sklearn.model_selection import train_test_split\n",
    "from sklearn import datasets\n",
    "import numpy as np\n",
    "\n",
    "def accuracy(y_true, y_pred):\n",
    "    accuracy = np.sum(y_true == y_pred) / len(y_true)\n",
    "    return accuracy\n",
    "\n",
    "X, y = datasets.make_blobs(n_samples=150, n_features=2, centers=2, cluster_std=1.05, random_state=2)\n",
    "X_train, X_test, y_train, y_test = train_test_split(X, y, test_size=0.2, random_state=123)\n",
    "\n",
    "p = Perceptron(learning_rate=0.01, n_iters=1000)\n",
    "p.fit(X_train, y_train)\n",
    "predictions = p.predict(X_test)\n",
    "\n",
    "print(\"Perceptron classification accuracy\", accuracy(y_test, predictions))\n",
    "\n",
    "fig = plt.figure()\n",
    "ax = fig.add_subplot(1, 1, 1)\n",
    "plt.scatter(X_train[:, 0], X_train[:, 1], marker=\"o\", c=y_train)\n",
    "\n",
    "x0_1 = np.amin(X_train[:, 0])\n",
    "x0_2 = np.amax(X_train[:, 0])\n",
    "\n",
    "x1_1 = (-p.weights[0] * x0_1 - p.bias) / p.weights[1]\n",
    "x1_2 = (-p.weights[0] * x0_2 - p.bias) / p.weights[1]\n",
    "\n",
    "ax.plot([x0_1, x0_2], [x1_1, x1_2], \"k\")\n",
    "\n",
    "ymin = np.amin(X_train[:, 1])\n",
    "ymax = np.amax(X_train[:, 1])\n",
    "ax.set_ylim([ymin - 3, ymax + 3])\n",
    "\n",
    "plt.show()"
   ]
  },
  {
   "attachments": {},
   "cell_type": "markdown",
   "metadata": {},
   "source": [
    "## load data and preprocessing"
   ]
  },
  {
   "cell_type": "code",
   "execution_count": 71,
   "metadata": {},
   "outputs": [],
   "source": [
    "from sklearn.model_selection import train_test_split\n",
    "from sklearn import datasets\n",
    "import numpy as np\n",
    "import pandas as pd \n",
    "X, y = datasets.make_blobs(n_samples=200, n_features=2, centers=2, cluster_std=1.5, random_state=2)\n",
    "X_train, X_test, y_train, y_test = train_test_split(X, y, test_size=0.2, random_state=123)"
   ]
  },
  {
   "cell_type": "code",
   "execution_count": 72,
   "metadata": {},
   "outputs": [],
   "source": [
    "class MLPwithBack:\n",
    "\n",
    "    def __init__(self, learning_rate=0.1, iterations=5, N=None, input_size=None, hidden_size=None, output_size=1):\n",
    "        self.lr = learning_rate \n",
    "        self.iter = iterations \n",
    "        self.N = N\n",
    "        \n",
    "        # Initialize weights\n",
    "        np.random.seed(10)\n",
    "        # initializing weight for the hidden layer\n",
    "        self.W1 = np.random.normal(scale=0.5, size=(input_size, hidden_size))   \n",
    "\n",
    "        # initializing weight for the output layer\n",
    "        self.W2 = np.random.normal(scale=0.5, size=(hidden_size, output_size)) \n",
    "        self.results = pd.DataFrame(columns=[\"mse\", \"accuracy\"] )\n",
    "\n",
    "    def sigmoid(self, x):\n",
    "        return 1 / (1 + np.exp(-x))\n",
    "    \n",
    "    def mean_squared_error(self, y_pred, y_true):\n",
    "        return ((y_pred - y_true) ** 2).sum() / (2 * y_pred.size)\n",
    "\n",
    "    def accuracy(self , y_true, y_pred):\n",
    "        y_pred_binary = np.where(y_pred>=.5 , 1 , 0)\n",
    "        accuracy = (y_pred_binary == y_true).mean()\n",
    "        return accuracy\n",
    "\n",
    "    def fit(self, X_train, y_train):  \n",
    "\n",
    "        self.N = y_train.size\n",
    "        \n",
    "        for _ in range(self.iter):    \n",
    "            # feed-forward propagation\n",
    "            # on hidden layer\n",
    "            Z1 = np.dot(X_train, self.W1)\n",
    "            A1 = self.sigmoid(Z1)\n",
    "            # on output layer\n",
    "            Z2 = np.dot(A1, self.W2)\n",
    "            A2 = self.sigmoid(Z2)\n",
    "\n",
    "            # Calculating error\n",
    "            mse = self.mean_squared_error(y_pred = A2, y_true= y_train)\n",
    "            acc = self.accuracy(y_pred = A2,y_true = y_train)\n",
    "            self.results = self.results.append({\"mse\":mse ,\"accuracy\" :acc},ignore_index=True )\n",
    "            \n",
    "            # back-propagation\n",
    "            E1 = A2 - y_train.reshape(len(y_train) , 1)\n",
    "            dW1 = E1 * A2 * (1 - A2)\n",
    "            E2 = np.dot(dW1, self.W2.T)\n",
    "            dW2 = E2 * A1 * (1 - A1)\n",
    "\n",
    "\n",
    "\n",
    "            # weight updates\n",
    "            W2_update = np.dot( A1.T, dW1) / self.N \n",
    "            W1_update = np.dot(X_train.T, dW2) / self.N\n",
    "\n",
    "\n",
    "            self.W2 = self.W2 - self.lr * W2_update\n",
    "            self.W1 = self.W1 - self.lr * W1_update\n",
    "\n",
    "            \n",
    "    def predict(self , X_test ):\n",
    "        Z1 = np.dot(X_test, self.W1)\n",
    "        A1 = self.sigmoid(Z1)\n",
    "        Z2 = np.dot(A1, self.W2)\n",
    "        A2 = self.sigmoid(Z2)\n",
    "        \n",
    "        return np.where(A2>=.5 , 1 , 0)\n",
    "            "
   ]
  },
  {
   "attachments": {},
   "cell_type": "markdown",
   "metadata": {},
   "source": [
    "## Backpropagation Neural Network"
   ]
  },
  {
   "cell_type": "code",
   "execution_count": 73,
   "metadata": {},
   "outputs": [],
   "source": [
    "samples,input_layers = X_train.shape\n",
    "hidden_layers = 7\n",
    "iterations=5000\n",
    "N = y_train.size\n",
    "mlp = MLPwithBack(N=samples, input_size= input_layers , hidden_size= hidden_layers , iterations=iterations)\n",
    "mlp.fit(X_train , y_train)\n"
   ]
  },
  {
   "cell_type": "code",
   "execution_count": 74,
   "metadata": {},
   "outputs": [
    {
     "name": "stdout",
     "output_type": "stream",
     "text": [
      "Accuracy: 0.505\n"
     ]
    },
    {
     "data": {
      "image/png": "[encoded data removed]",
      "text/plain": [
       "<Figure size 432x288 with 1 Axes>"
      ]
     },
     "metadata": {
      "needs_background": "light"
     },
     "output_type": "display_data"
    }
   ],
   "source": [
    "mlp.results.mse.plot()\n",
    "mlp.results.accuracy.plot()\n",
    "y_pre = mlp.predict(X_test)\n",
    "acc = mlp.accuracy(y_pre , y_test)\n",
    "print(\"Accuracy: {}\".format(acc))"
   ]
  }
 ],
 "metadata": {
  "kernelspec": {
   "display_name": "base",
   "language": "python",
   "name": "python3"
  },
  "language_info": {
   "codemirror_mode": {
    "name": "ipython",
    "version": 3
   },
   "file_extension": ".py",
   "mimetype": "text/x-python",
   "name": "python",
   "nbconvert_exporter": "python",
   "pygments_lexer": "ipython3",
   "version": "3.9.7"
  },
  "orig_nbformat": 4
 },
 "nbformat": 4,
 "nbformat_minor": 2
}
