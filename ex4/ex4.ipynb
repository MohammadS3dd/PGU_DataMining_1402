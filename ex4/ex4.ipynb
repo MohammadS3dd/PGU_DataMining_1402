{
 "cells": [
  {
   "attachments": {},
   "cell_type": "markdown",
   "metadata": {},
   "source": [
    "# abdolazizsalimi980292626Ex4"
   ]
  },
  {
   "attachments": {},
   "cell_type": "markdown",
   "metadata": {},
   "source": [
    "## Q1"
   ]
  },
  {
   "cell_type": "code",
   "execution_count": 16,
   "metadata": {},
   "outputs": [
    {
     "name": "stdout",
     "output_type": "stream",
     "text": [
      "Intercept: [2.21509615]\n",
      "Slope: [[2.54022679]]\n",
      "MSE: 0.8065845639670535\n"
     ]
    },
    {
     "data": {
      "image/png": "[encoded data removed]",
      "text/plain": [
       "<Figure size 864x576 with 1 Axes>"
      ]
     },
     "metadata": {
      "needs_background": "light"
     },
     "output_type": "display_data"
    }
   ],
   "source": [
    "import numpy as np\n",
    "import matplotlib.pyplot as plt\n",
    "\n",
    "class LinearRegression:\n",
    "    def __init__(self, learning_rate=0.1, n_iterations=1000):\n",
    "        self.lr = learning_rate\n",
    "        self.n_iterations = n_iterations\n",
    "        \n",
    "    def fit(self, X, y):\n",
    "        n_samples, n_features = X.shape\n",
    "        self.theta = np.random.randn(n_features + 1, 1)\n",
    "        X_b = np.c_[np.ones((n_samples, 1)), X]\n",
    "        \n",
    "        for _ in range(self.n_iterations):\n",
    "            gradients = 2 / n_samples * X_b.T.dot(X_b.dot(self.theta) - y)\n",
    "            self.theta = self.theta - self.lr * gradients\n",
    "        \n",
    "    def predict(self, X):\n",
    "        X_b = np.c_[np.ones((X.shape[0], 1)), X]\n",
    "        return X_b.dot(self.theta)\n",
    "    \n",
    "    def mse(self, X, y):\n",
    "        y_pred = self.predict(X)\n",
    "        return np.mean((y_pred - y) ** 2)\n",
    "\n",
    "\n",
    "np.random.seed(42)\n",
    "X = np.random.rand(100, 1)\n",
    "y = 2 + 3 * X + np.random.randn(100, 1)\n",
    "\n",
    "\n",
    "model = LinearRegression(learning_rate=0.1, n_iterations=1000)\n",
    "model.fit(X, y)\n",
    "\n",
    "\n",
    "print(\"Intercept:\", model.theta[0])\n",
    "print(\"Slope:\", model.theta[1:])\n",
    "print(\"MSE:\", model.mse(X, y))\n",
    "\n",
    "plt.figure(figsize=(12,8))\n",
    "plt.scatter(X, y)\n",
    "plt.plot(X, model.predict(X), 'r-')\n",
    "plt.show()\n"
   ]
  }
 ],
 "metadata": {
  "kernelspec": {
   "display_name": "base",
   "language": "python",
   "name": "python3"
  },
  "language_info": {
   "codemirror_mode": {
    "name": "ipython",
    "version": 3
   },
   "file_extension": ".py",
   "mimetype": "text/x-python",
   "name": "python",
   "nbconvert_exporter": "python",
   "pygments_lexer": "ipython3",
   "version": "3.9.7"
  },
  "orig_nbformat": 4
 },
 "nbformat": 4,
 "nbformat_minor": 2
}
